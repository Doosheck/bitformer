{
 "cells": [
  {
   "cell_type": "code",
   "execution_count": 44,
   "metadata": {},
   "outputs": [],
   "source": [
    "import torch\n",
    "import torch.nn as nn\n",
    "import numpy as np\n",
    "import pandas as pd\n",
    "import math\n",
    "import time\n",
    "import matplotlib.pyplot as plt\n",
    "import matplotlib.pyplot as plt\n",
    "\n",
    "from torchinfo import summary\n",
    "from torch.utils.data import DataLoader, Dataset\n",
    "from torch.nn import TransformerEncoder, TransformerEncoderLayer"
   ]
  },
  {
   "cell_type": "markdown",
   "metadata": {},
   "source": [
    "Check CUDA installation"
   ]
  },
  {
   "cell_type": "code",
   "execution_count": 2,
   "metadata": {},
   "outputs": [
    {
     "name": "stdout",
     "output_type": "stream",
     "text": [
      "1\n",
      "NVIDIA GeForce RTX 4070 Ti\n"
     ]
    }
   ],
   "source": [
    "print(torch.cuda.device_count())\n",
    "print(torch.cuda.get_device_name(0))"
   ]
  },
  {
   "cell_type": "code",
   "execution_count": 3,
   "metadata": {},
   "outputs": [
    {
     "data": {
      "text/html": [
       "<div>\n",
       "<style scoped>\n",
       "    .dataframe tbody tr th:only-of-type {\n",
       "        vertical-align: middle;\n",
       "    }\n",
       "\n",
       "    .dataframe tbody tr th {\n",
       "        vertical-align: top;\n",
       "    }\n",
       "\n",
       "    .dataframe thead th {\n",
       "        text-align: right;\n",
       "    }\n",
       "</style>\n",
       "<table border=\"1\" class=\"dataframe\">\n",
       "  <thead>\n",
       "    <tr style=\"text-align: right;\">\n",
       "      <th></th>\n",
       "      <th>unix_timestamp</th>\n",
       "      <th>entry_date</th>\n",
       "      <th>symbol</th>\n",
       "      <th>open_price</th>\n",
       "      <th>high_price</th>\n",
       "      <th>low_price</th>\n",
       "      <th>close_price</th>\n",
       "      <th>coin_volume</th>\n",
       "    </tr>\n",
       "  </thead>\n",
       "  <tbody>\n",
       "    <tr>\n",
       "      <th>0</th>\n",
       "      <td>1417411980</td>\n",
       "      <td>2014-12-01 06:33:00+01:00</td>\n",
       "      <td>BTC-USD</td>\n",
       "      <td>300.00</td>\n",
       "      <td>300.00</td>\n",
       "      <td>300.00</td>\n",
       "      <td>300.00</td>\n",
       "      <td>0.010000</td>\n",
       "    </tr>\n",
       "    <tr>\n",
       "      <th>1</th>\n",
       "      <td>1417412400</td>\n",
       "      <td>2014-12-01 06:40:00+01:00</td>\n",
       "      <td>BTC-USD</td>\n",
       "      <td>300.00</td>\n",
       "      <td>300.00</td>\n",
       "      <td>300.00</td>\n",
       "      <td>300.00</td>\n",
       "      <td>0.010000</td>\n",
       "    </tr>\n",
       "    <tr>\n",
       "      <th>2</th>\n",
       "      <td>1417415040</td>\n",
       "      <td>2014-12-01 07:24:00+01:00</td>\n",
       "      <td>BTC-USD</td>\n",
       "      <td>370.00</td>\n",
       "      <td>370.00</td>\n",
       "      <td>370.00</td>\n",
       "      <td>370.00</td>\n",
       "      <td>0.010000</td>\n",
       "    </tr>\n",
       "    <tr>\n",
       "      <th>3</th>\n",
       "      <td>1417416600</td>\n",
       "      <td>2014-12-01 07:50:00+01:00</td>\n",
       "      <td>BTC-USD</td>\n",
       "      <td>370.00</td>\n",
       "      <td>370.00</td>\n",
       "      <td>370.00</td>\n",
       "      <td>370.00</td>\n",
       "      <td>0.026556</td>\n",
       "    </tr>\n",
       "    <tr>\n",
       "      <th>4</th>\n",
       "      <td>1417498140</td>\n",
       "      <td>2014-12-02 06:29:00+01:00</td>\n",
       "      <td>BTC-USD</td>\n",
       "      <td>377.00</td>\n",
       "      <td>377.00</td>\n",
       "      <td>377.00</td>\n",
       "      <td>377.00</td>\n",
       "      <td>0.010000</td>\n",
       "    </tr>\n",
       "    <tr>\n",
       "      <th>...</th>\n",
       "      <td>...</td>\n",
       "      <td>...</td>\n",
       "      <td>...</td>\n",
       "      <td>...</td>\n",
       "      <td>...</td>\n",
       "      <td>...</td>\n",
       "      <td>...</td>\n",
       "      <td>...</td>\n",
       "    </tr>\n",
       "    <tr>\n",
       "      <th>4911801</th>\n",
       "      <td>1722276180</td>\n",
       "      <td>2024-07-29 20:03:00+02:00</td>\n",
       "      <td>BTC-USD</td>\n",
       "      <td>67112.69</td>\n",
       "      <td>67240.21</td>\n",
       "      <td>67073.33</td>\n",
       "      <td>67231.12</td>\n",
       "      <td>16.786577</td>\n",
       "    </tr>\n",
       "    <tr>\n",
       "      <th>4911802</th>\n",
       "      <td>1722276240</td>\n",
       "      <td>2024-07-29 20:04:00+02:00</td>\n",
       "      <td>BTC-USD</td>\n",
       "      <td>67231.11</td>\n",
       "      <td>67270.14</td>\n",
       "      <td>67215.95</td>\n",
       "      <td>67232.61</td>\n",
       "      <td>14.302211</td>\n",
       "    </tr>\n",
       "    <tr>\n",
       "      <th>4911803</th>\n",
       "      <td>1722276300</td>\n",
       "      <td>2024-07-29 20:05:00+02:00</td>\n",
       "      <td>BTC-USD</td>\n",
       "      <td>67232.60</td>\n",
       "      <td>67266.29</td>\n",
       "      <td>67182.71</td>\n",
       "      <td>67255.35</td>\n",
       "      <td>12.772139</td>\n",
       "    </tr>\n",
       "    <tr>\n",
       "      <th>4911804</th>\n",
       "      <td>1722276360</td>\n",
       "      <td>2024-07-29 20:06:00+02:00</td>\n",
       "      <td>BTC-USD</td>\n",
       "      <td>67254.00</td>\n",
       "      <td>67290.65</td>\n",
       "      <td>67221.06</td>\n",
       "      <td>67256.28</td>\n",
       "      <td>16.879374</td>\n",
       "    </tr>\n",
       "    <tr>\n",
       "      <th>4911805</th>\n",
       "      <td>1722276420</td>\n",
       "      <td>2024-07-29 20:07:00+02:00</td>\n",
       "      <td>BTC-USD</td>\n",
       "      <td>67256.28</td>\n",
       "      <td>67290.88</td>\n",
       "      <td>67242.32</td>\n",
       "      <td>67283.97</td>\n",
       "      <td>4.155161</td>\n",
       "    </tr>\n",
       "  </tbody>\n",
       "</table>\n",
       "<p>4911806 rows × 8 columns</p>\n",
       "</div>"
      ],
      "text/plain": [
       "         unix_timestamp                 entry_date   symbol  open_price  \\\n",
       "0            1417411980  2014-12-01 06:33:00+01:00  BTC-USD      300.00   \n",
       "1            1417412400  2014-12-01 06:40:00+01:00  BTC-USD      300.00   \n",
       "2            1417415040  2014-12-01 07:24:00+01:00  BTC-USD      370.00   \n",
       "3            1417416600  2014-12-01 07:50:00+01:00  BTC-USD      370.00   \n",
       "4            1417498140  2014-12-02 06:29:00+01:00  BTC-USD      377.00   \n",
       "...                 ...                        ...      ...         ...   \n",
       "4911801      1722276180  2024-07-29 20:03:00+02:00  BTC-USD    67112.69   \n",
       "4911802      1722276240  2024-07-29 20:04:00+02:00  BTC-USD    67231.11   \n",
       "4911803      1722276300  2024-07-29 20:05:00+02:00  BTC-USD    67232.60   \n",
       "4911804      1722276360  2024-07-29 20:06:00+02:00  BTC-USD    67254.00   \n",
       "4911805      1722276420  2024-07-29 20:07:00+02:00  BTC-USD    67256.28   \n",
       "\n",
       "         high_price  low_price  close_price  coin_volume  \n",
       "0            300.00     300.00       300.00     0.010000  \n",
       "1            300.00     300.00       300.00     0.010000  \n",
       "2            370.00     370.00       370.00     0.010000  \n",
       "3            370.00     370.00       370.00     0.026556  \n",
       "4            377.00     377.00       377.00     0.010000  \n",
       "...             ...        ...          ...          ...  \n",
       "4911801    67240.21   67073.33     67231.12    16.786577  \n",
       "4911802    67270.14   67215.95     67232.61    14.302211  \n",
       "4911803    67266.29   67182.71     67255.35    12.772139  \n",
       "4911804    67290.65   67221.06     67256.28    16.879374  \n",
       "4911805    67290.88   67242.32     67283.97     4.155161  \n",
       "\n",
       "[4911806 rows x 8 columns]"
      ]
     },
     "execution_count": 3,
     "metadata": {},
     "output_type": "execute_result"
    }
   ],
   "source": [
    "bitcoin = pd.read_csv('data/btc.csv')\n",
    "bitcoin"
   ]
  },
  {
   "cell_type": "code",
   "execution_count": 4,
   "metadata": {},
   "outputs": [],
   "source": [
    "crypto_df = dict()\n",
    "crypto_df['bitcoin'] = bitcoin"
   ]
  },
  {
   "cell_type": "code",
   "execution_count": 5,
   "metadata": {},
   "outputs": [],
   "source": [
    "close_btc = crypto_df['bitcoin'].close_price\n"
   ]
  },
  {
   "cell_type": "code",
   "execution_count": 7,
   "metadata": {},
   "outputs": [
    {
     "name": "stderr",
     "output_type": "stream",
     "text": [
      "C:\\Users\\Doosheck\\AppData\\Local\\Temp\\ipykernel_33592\\2182110235.py:4: SettingWithCopyWarning: \n",
      "A value is trying to be set on a copy of a slice from a DataFrame.\n",
      "Try using .loc[row_indexer,col_indexer] = value instead\n",
      "\n",
      "See the caveats in the documentation: https://pandas.pydata.org/pandas-docs/stable/user_guide/indexing.html#returning-a-view-versus-a-copy\n",
      "  sampled_data['entry_date'] = pd.to_datetime(sampled_data['entry_date'], utc=True)\n"
     ]
    },
    {
     "data": {
      "image/png": "[encoded data removed]",
      "text/plain": [
       "<Figure size 600x400 with 1 Axes>"
      ]
     },
     "metadata": {},
     "output_type": "display_data"
    }
   ],
   "source": [
    "sampled_data = bitcoin.iloc[::100]\n",
    "\n",
    "# Ensure 'entry_date' is a datetime object\n",
    "sampled_data['entry_date'] = pd.to_datetime(sampled_data['entry_date'], utc=True)\n",
    "\n",
    "# Plot\n",
    "plt.figure(figsize=(6, 4))\n",
    "plt.plot(sampled_data['entry_date'], sampled_data['close_price'], label='Close Price', color='blue')\n",
    "plt.xlabel('Entry Date')\n",
    "plt.ylabel('Close Price')\n",
    "plt.title('Bitcoin Close Price Over Time')\n",
    "plt.xticks(rotation=45)  # Rotate x-axis labels for better readability\n",
    "plt.legend()\n",
    "plt.tight_layout()\n",
    "plt.show()"
   ]
  },
  {
   "cell_type": "code",
   "execution_count": null,
   "metadata": {},
   "outputs": [],
   "source": [
    "btc_prices = np.diff(bitcoin['close_price'])\n",
    "btc_prices_csum = np.cumsum(btc_prices)"
   ]
  },
  {
   "cell_type": "code",
   "execution_count": 13,
   "metadata": {},
   "outputs": [
    {
     "data": {
      "image/png": "[encoded data removed]",
      "text/plain": [
       "<Figure size 600x400 with 1 Axes>"
      ]
     },
     "metadata": {},
     "output_type": "display_data"
    }
   ],
   "source": [
    "plt.figure(figsize=(6, 4))\n",
    "plt.plot(btc_prices_csum, label='Close Price', color='blue')\n",
    "plt.xlabel('Days')\n",
    "plt.ylabel('Close Price')\n",
    "plt.title('Bitcoin Close Price Over Time')\n",
    "plt.xticks(rotation=45)  # Rotate x-axis labels for better readability\n",
    "plt.legend()\n",
    "plt.tight_layout()\n",
    "plt.show()"
   ]
  },
  {
   "cell_type": "markdown",
   "metadata": {},
   "source": [
    "# Net"
   ]
  },
  {
   "cell_type": "code",
   "execution_count": 28,
   "metadata": {},
   "outputs": [
    {
     "name": "stdout",
     "output_type": "stream",
     "text": [
      "cuda:0\n"
     ]
    }
   ],
   "source": [
    "use_cuda = torch.cuda.is_available()\n",
    "device = torch.device(\"cuda:0\" if use_cuda else \"cpu\")\n",
    "print(device)"
   ]
  },
  {
   "cell_type": "code",
   "execution_count": 30,
   "metadata": {},
   "outputs": [],
   "source": [
    "input_window = 7\n",
    "output_window = 1\n",
    "batch_size = 128  # batch size"
   ]
  },
  {
   "cell_type": "code",
   "execution_count": 31,
   "metadata": {},
   "outputs": [],
   "source": [
    "class PositionalEncoding(nn.Module):\n",
    "    def __init__(self, d_model, dropout=0.1, max_len=5000):\n",
    "        super().__init__()\n",
    "        self.dropout = nn.Dropout(p=dropout)\n",
    "        pe = torch.zeros(max_len, d_model)\n",
    "        position = torch.arange(0, max_len).unsqueeze(1).float()\n",
    "        div_term = torch.exp(torch.arange(0, d_model, 2).float() * (-math.log(10000.0) / d_model))\n",
    "        pe[:, 0::2] = torch.sin(position * div_term)    # 0::2 means start from 0 and step 2\n",
    "        pe[:, 1::2] = torch.cos(position * div_term)    # 1::2 means start from 1 and step 2\n",
    "        pe = pe.unsqueeze(0).transpose(0, 1)\n",
    "        self.register_buffer('pe', pe)\n",
    "\n",
    "    def forward(self, x):\n",
    "        x = x + self.pe[:x.size(0), :]\n",
    "        return self.dropout(x)"
   ]
  },
  {
   "cell_type": "code",
   "execution_count": 32,
   "metadata": {},
   "outputs": [],
   "source": [
    "class TransformerModel(nn.Module):\n",
    "    def __init__(self, feature_size=200, num_layers=2, num_heads=10, hidden_size=128, dropout=0.2):\n",
    "        super(TransformerModel, self).__init__()\n",
    "        self.model_type = 'Transformer'\n",
    "        self.src_mask = None\n",
    "        self.pos_encoder = PositionalEncoding(feature_size, dropout)\n",
    "        encoder_layers = TransformerEncoderLayer(feature_size, num_heads, hidden_size, dropout)\n",
    "        self.transformer_encoder = TransformerEncoder(encoder_layers, num_layers)\n",
    "        self.decoder = nn.Linear(feature_size, 1)\n",
    "        self.init_weights()\n",
    "\n",
    "    def init_weights(self):\n",
    "        init_range = 0.1\n",
    "        self.decoder.bias.data.zero_()\n",
    "        self.decoder.weight.data.uniform_(-init_range, init_range)\n",
    "\n",
    "    def forward(self, src):\n",
    "        if self.src_mask is None or self.src_mask.size(0) != len(src):\n",
    "            device = src.device\n",
    "            mask = self._generate_square_subsequent_mask(len(src)).to(device)\n",
    "            self.src_mask = mask\n",
    "\n",
    "        src = self.pos_encoder(src)\n",
    "        output = self.transformer_encoder(src, self.src_mask)\n",
    "        output = self.decoder(output)\n",
    "        return output\n",
    "    \n",
    "    def _generate_square_subsequent_mask(self, sz):\n",
    "        mask = (torch.tril(torch.ones(sz, sz)) == 1).transpose(0, 1)\n",
    "        mask = mask.float().masked_fill(mask == 0, float('-inf')).masked_fill(mask == 1, float(0.0))\n",
    "        return mask"
   ]
  },
  {
   "cell_type": "code",
   "execution_count": 33,
   "metadata": {},
   "outputs": [],
   "source": [
    "def create_inout_sequences(input_data, input_window):\n",
    "    inout_seq = []\n",
    "    L = len(input_data)\n",
    "    for i in range(L-input_window):\n",
    "        train_seq = input_data[i:i+input_window]\n",
    "        train_label = input_data[i+input_window:i+input_window+1]\n",
    "        inout_seq.append((train_seq, train_label))\n",
    "    return inout_seq"
   ]
  },
  {
   "cell_type": "code",
   "execution_count": 37,
   "metadata": {},
   "outputs": [],
   "source": [
    "def get_data(data, split):\n",
    "    split = round(0.8 * len(data))\n",
    "    train_data = data[:split]\n",
    "    test_data = data[split:]\n",
    "\n",
    "    train_data = train_data.cumsum()\n",
    "    test_data = test_data.cumsum()\n",
    "\n",
    "    train_sequence = create_inout_sequences(train_data, input_window)\n",
    "    train_sequence = train_sequence[:-output_window] # remove the output_window\n",
    "\n",
    "    test_sequence = create_inout_sequences(test_data, input_window)\n",
    "    test_sequence = test_sequence[:-output_window] # remove the output_window\n",
    "\n",
    "    return train_sequence, test_sequence"
   ]
  },
  {
   "cell_type": "code",
   "execution_count": 38,
   "metadata": {},
   "outputs": [],
   "source": [
    "train_data, test_data = get_data(btc_prices_csum, 0.8)"
   ]
  },
  {
   "cell_type": "code",
   "execution_count": 39,
   "metadata": {},
   "outputs": [],
   "source": [
    "def get_batch(source, i, batch_size):\n",
    "    seq_len = min(batch_size, len(source) - 1 - i)\n",
    "    data = source[i:i+seq_len]\n",
    "    data_input = torch.stack([item[0] for item in data]).float().to(device)\n",
    "    data_target = torch.stack([item[1] for item in data]).float().to(device)\n",
    "    return data_input, data_target"
   ]
  },
  {
   "cell_type": "code",
   "execution_count": 45,
   "metadata": {},
   "outputs": [
    {
     "name": "stderr",
     "output_type": "stream",
     "text": [
      "c:\\Users\\Doosheck\\miniconda3\\envs\\comp\\Lib\\site-packages\\torch\\nn\\modules\\transformer.py:379: UserWarning: enable_nested_tensor is True, but self.use_nested_tensor is False because encoder_layer.self_attn.batch_first was not True(use batch_first for better inference performance)\n",
      "  warnings.warn(\n"
     ]
    }
   ],
   "source": [
    "model = TransformerModel().to(device)\n",
    "\n",
    "criterion = nn.MSELoss() \n",
    "lr = 0.00005\n",
    "\n",
    "optimizer = torch.optim.AdamW(model.parameters(), lr=lr)\n",
    "scheduler = torch.optim.lr_scheduler.StepLR(optimizer, 1.0, gamma=0.95)\n",
    "\n",
    "N_EPOCHS = 150"
   ]
  },
  {
   "cell_type": "code",
   "execution_count": 40,
   "metadata": {},
   "outputs": [],
   "source": [
    "def train(train_data):\n",
    "    model.train()\n",
    "    total_loss = 0.\n",
    "    start_time = time.time()\n",
    "    src_mask = model._generate_square_subsequent_mask(input_window).to(device)\n",
    "\n",
    "    for batch, i in enumerate(range(0, len(train_data) - 1, batch_size)):\n",
    "        data, targets = get_batch(train_data, i, batch_size)\n",
    "        optimizer.zero_grad()\n",
    "        if data.size(0) != batch_size:\n",
    "            src_mask = model._generate_square_subsequent_mask(data.size(0)).to(device)\n",
    "        output = model(data)\n",
    "        loss = criterion(output, targets)\n",
    "        loss.backward()\n",
    "        nn.utils.clip_grad_norm_(model.parameters(), 0.7)\n",
    "        optimizer.step()\n",
    "\n",
    "        total_loss += loss.item()\n",
    "        log_interval = int(len(train_data) / batch_size / 5)\n",
    "        if batch % log_interval == 0 and batch > 0:\n",
    "            cur_loss = total_loss / log_interval\n",
    "            elapsed = time.time() - start_time\n",
    "            print('| epoch {:3d} | {:5d}/{:5d} batches | '\n",
    "                  'lr {:02.2f} | ms/batch {:5.2f} | '\n",
    "                  'loss {:5.2f} | ppl {:8.2f}'.format(\n",
    "                    epoch, batch, len(train_data) // batch_size, scheduler.get_last_lr()[0],\n",
    "                    elapsed * 1000 / log_interval,\n",
    "                    cur_loss, math.exp(cur_loss)))\n",
    "            total_loss = 0\n",
    "            start_time = time.time()"
   ]
  },
  {
   "cell_type": "code",
   "execution_count": 41,
   "metadata": {},
   "outputs": [],
   "source": [
    "def evaluate(model, data_source):\n",
    "    model.eval()\n",
    "    total_loss = 0.\n",
    "    src_mask = model._generate_square_subsequent_mask(input_window).to(device)\n",
    "    eval_batch_size = batch_size\n",
    "    with torch.no_grad():\n",
    "        for i in range(0, len(data_source) - 1, eval_batch_size):\n",
    "            data, targets = get_batch(data_source, i, eval_batch_size)\n",
    "            if data.size(0) != batch_size:\n",
    "                src_mask = model._generate_square_subsequent_mask(data.size(0)).to(device)\n",
    "            output = model(data)\n",
    "            total_loss = total_loss + len(data[0]) * criterion(output, targets).item()\n",
    "    return total_loss / len(data_source)"
   ]
  },
  {
   "cell_type": "code",
   "execution_count": 42,
   "metadata": {},
   "outputs": [],
   "source": [
    "def predict(model, sequences):\n",
    "    start_time = time.time()\n",
    "    model.eval()\n",
    "    predicted_seq = torch.Tensor(0)\n",
    "    real_seq = torch.Tensor(0)\n",
    "    with torch.no_grad():\n",
    "        for i in range(len(sequences) - 1):\n",
    "            data, target = get_batch(sequences, i, 1)\n",
    "            output = model(data)\n",
    "            predicted_seq = torch.cat((predicted_seq, output[-1].view(-1).cpu()), 0)\n",
    "            real_seq = torch.cat((real_seq, target[-1].view(-1).cpu()), 0)\n",
    "    elapsed = time.time() - start_time\n",
    "    print(f\"Complete the prediction in {elapsed} seconds.\")\n",
    "    return predicted_seq, real_seq"
   ]
  },
  {
   "cell_type": "markdown",
   "metadata": {},
   "source": [
    "RUN MODEL"
   ]
  },
  {
   "cell_type": "code",
   "execution_count": 46,
   "metadata": {},
   "outputs": [
    {
     "ename": "TypeError",
     "evalue": "expected Tensor as element 0 in argument 0, but got numpy.ndarray",
     "output_type": "error",
     "traceback": [
      "\u001b[1;31m---------------------------------------------------------------------------\u001b[0m",
      "\u001b[1;31mTypeError\u001b[0m                                 Traceback (most recent call last)",
      "Cell \u001b[1;32mIn[46], line 3\u001b[0m\n\u001b[0;32m      1\u001b[0m \u001b[38;5;28;01mfor\u001b[39;00m epoch \u001b[38;5;129;01min\u001b[39;00m \u001b[38;5;28mrange\u001b[39m(\u001b[38;5;241m1\u001b[39m, N_EPOCHS \u001b[38;5;241m+\u001b[39m \u001b[38;5;241m1\u001b[39m):\n\u001b[0;32m      2\u001b[0m     epoch_start_time \u001b[38;5;241m=\u001b[39m time\u001b[38;5;241m.\u001b[39mtime()\n\u001b[1;32m----> 3\u001b[0m     \u001b[43mtrain\u001b[49m\u001b[43m(\u001b[49m\u001b[43mtrain_data\u001b[49m\u001b[43m)\u001b[49m\n\u001b[0;32m      4\u001b[0m     \u001b[38;5;28;01mif\u001b[39;00m epoch \u001b[38;5;241m%\u001b[39m N_EPOCHS \u001b[38;5;241m==\u001b[39m \u001b[38;5;241m0\u001b[39m:\n\u001b[0;32m      5\u001b[0m         val_loss \u001b[38;5;241m=\u001b[39m evaluate(model, test_data)\n",
      "Cell \u001b[1;32mIn[40], line 8\u001b[0m, in \u001b[0;36mtrain\u001b[1;34m(train_data)\u001b[0m\n\u001b[0;32m      5\u001b[0m src_mask \u001b[38;5;241m=\u001b[39m model\u001b[38;5;241m.\u001b[39m_generate_square_subsequent_mask(input_window)\u001b[38;5;241m.\u001b[39mto(device)\n\u001b[0;32m      7\u001b[0m \u001b[38;5;28;01mfor\u001b[39;00m batch, i \u001b[38;5;129;01min\u001b[39;00m \u001b[38;5;28menumerate\u001b[39m(\u001b[38;5;28mrange\u001b[39m(\u001b[38;5;241m0\u001b[39m, \u001b[38;5;28mlen\u001b[39m(train_data) \u001b[38;5;241m-\u001b[39m \u001b[38;5;241m1\u001b[39m, batch_size)):\n\u001b[1;32m----> 8\u001b[0m     data, targets \u001b[38;5;241m=\u001b[39m \u001b[43mget_batch\u001b[49m\u001b[43m(\u001b[49m\u001b[43mtrain_data\u001b[49m\u001b[43m,\u001b[49m\u001b[43m \u001b[49m\u001b[43mi\u001b[49m\u001b[43m,\u001b[49m\u001b[43m \u001b[49m\u001b[43mbatch_size\u001b[49m\u001b[43m)\u001b[49m\n\u001b[0;32m      9\u001b[0m     optimizer\u001b[38;5;241m.\u001b[39mzero_grad()\n\u001b[0;32m     10\u001b[0m     \u001b[38;5;28;01mif\u001b[39;00m data\u001b[38;5;241m.\u001b[39msize(\u001b[38;5;241m0\u001b[39m) \u001b[38;5;241m!=\u001b[39m batch_size:\n",
      "Cell \u001b[1;32mIn[39], line 4\u001b[0m, in \u001b[0;36mget_batch\u001b[1;34m(source, i, batch_size)\u001b[0m\n\u001b[0;32m      2\u001b[0m seq_len \u001b[38;5;241m=\u001b[39m \u001b[38;5;28mmin\u001b[39m(batch_size, \u001b[38;5;28mlen\u001b[39m(source) \u001b[38;5;241m-\u001b[39m \u001b[38;5;241m1\u001b[39m \u001b[38;5;241m-\u001b[39m i)\n\u001b[0;32m      3\u001b[0m data \u001b[38;5;241m=\u001b[39m source[i:i\u001b[38;5;241m+\u001b[39mseq_len]\n\u001b[1;32m----> 4\u001b[0m data_input \u001b[38;5;241m=\u001b[39m \u001b[43mtorch\u001b[49m\u001b[38;5;241;43m.\u001b[39;49m\u001b[43mstack\u001b[49m\u001b[43m(\u001b[49m\u001b[43m[\u001b[49m\u001b[43mitem\u001b[49m\u001b[43m[\u001b[49m\u001b[38;5;241;43m0\u001b[39;49m\u001b[43m]\u001b[49m\u001b[43m \u001b[49m\u001b[38;5;28;43;01mfor\u001b[39;49;00m\u001b[43m \u001b[49m\u001b[43mitem\u001b[49m\u001b[43m \u001b[49m\u001b[38;5;129;43;01min\u001b[39;49;00m\u001b[43m \u001b[49m\u001b[43mdata\u001b[49m\u001b[43m]\u001b[49m\u001b[43m)\u001b[49m\u001b[38;5;241m.\u001b[39mfloat()\u001b[38;5;241m.\u001b[39mto(device)\n\u001b[0;32m      5\u001b[0m data_target \u001b[38;5;241m=\u001b[39m torch\u001b[38;5;241m.\u001b[39mstack([item[\u001b[38;5;241m1\u001b[39m] \u001b[38;5;28;01mfor\u001b[39;00m item \u001b[38;5;129;01min\u001b[39;00m data])\u001b[38;5;241m.\u001b[39mfloat()\u001b[38;5;241m.\u001b[39mto(device)\n\u001b[0;32m      6\u001b[0m \u001b[38;5;28;01mreturn\u001b[39;00m data_input, data_target\n",
      "\u001b[1;31mTypeError\u001b[0m: expected Tensor as element 0 in argument 0, but got numpy.ndarray"
     ]
    }
   ],
   "source": [
    "for epoch in range(1, N_EPOCHS + 1):\n",
    "    epoch_start_time = time.time()\n",
    "    train(train_data)\n",
    "    if epoch % N_EPOCHS == 0:\n",
    "        val_loss = evaluate(model, test_data)\n",
    "        print('-' * 80)\n",
    "        print('| end of epoch {:3d} | time: {:5.2f}s | valid loss {:5.2f} | '\n",
    "              'valid ppl {:8.2f}'.format(epoch, (time.time() - epoch_start_time),\n",
    "                                         val_loss, math.exp(val_loss)))\n",
    "        print('-' * 80)\n",
    "    else:\n",
    "        print('-' * 80)\n",
    "        print('| end of epoch {:3d} | time: {:5.2f}s'.format(epoch, (time.time() - epoch_start_time)))\n",
    "        print('-' * 80)\n",
    "\n",
    "    scheduler.step()"
   ]
  }
 ],
 "metadata": {
  "kernelspec": {
   "display_name": "comp",
   "language": "python",
   "name": "python3"
  },
  "language_info": {
   "codemirror_mode": {
    "name": "ipython",
    "version": 3
   },
   "file_extension": ".py",
   "mimetype": "text/x-python",
   "name": "python",
   "nbconvert_exporter": "python",
   "pygments_lexer": "ipython3",
   "version": "3.12.7"
  }
 },
 "nbformat": 4,
 "nbformat_minor": 2
}
